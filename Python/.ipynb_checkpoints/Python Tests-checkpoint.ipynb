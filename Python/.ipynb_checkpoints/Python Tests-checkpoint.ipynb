{
 "cells": [
  {
   "cell_type": "markdown",
   "id": "fa56e4d0",
   "metadata": {},
   "source": [
    "### Imports"
   ]
  },
  {
   "cell_type": "code",
   "execution_count": 106,
   "id": "b67d06ca",
   "metadata": {
    "ExecuteTime": {
     "end_time": "2022-03-06T13:52:22.302317Z",
     "start_time": "2022-03-06T13:52:22.300551Z"
    }
   },
   "outputs": [],
   "source": [
    "import pandas as pd\n",
    "from sklearn import linear_model\n",
    "from sklearn.model_selection import train_test_split\n",
    "import warnings\n",
    "warnings.filterwarnings(\"ignore\")"
   ]
  },
  {
   "cell_type": "code",
   "execution_count": 34,
   "id": "ea366b0b",
   "metadata": {
    "ExecuteTime": {
     "end_time": "2022-03-06T09:56:07.297196Z",
     "start_time": "2022-03-06T09:56:07.237378Z"
    }
   },
   "outputs": [
    {
     "data": {
      "text/html": [
       "<div>\n",
       "<style scoped>\n",
       "    .dataframe tbody tr th:only-of-type {\n",
       "        vertical-align: middle;\n",
       "    }\n",
       "\n",
       "    .dataframe tbody tr th {\n",
       "        vertical-align: top;\n",
       "    }\n",
       "\n",
       "    .dataframe thead th {\n",
       "        text-align: right;\n",
       "    }\n",
       "</style>\n",
       "<table border=\"1\" class=\"dataframe\">\n",
       "  <thead>\n",
       "    <tr style=\"text-align: right;\">\n",
       "      <th></th>\n",
       "      <th>song_name</th>\n",
       "      <th>song_popularity</th>\n",
       "      <th>song_duration_ms</th>\n",
       "      <th>acousticness</th>\n",
       "      <th>danceability</th>\n",
       "      <th>energy</th>\n",
       "      <th>instrumentalness</th>\n",
       "      <th>key</th>\n",
       "      <th>liveness</th>\n",
       "      <th>loudness</th>\n",
       "      <th>audio_mode</th>\n",
       "      <th>speechiness</th>\n",
       "      <th>tempo</th>\n",
       "      <th>time_signature</th>\n",
       "      <th>audio_valence</th>\n",
       "    </tr>\n",
       "  </thead>\n",
       "  <tbody>\n",
       "    <tr>\n",
       "      <th>0</th>\n",
       "      <td>Boulevard of Broken Dreams</td>\n",
       "      <td>73</td>\n",
       "      <td>262333</td>\n",
       "      <td>0.005520</td>\n",
       "      <td>0.496</td>\n",
       "      <td>0.682</td>\n",
       "      <td>0.000029</td>\n",
       "      <td>8</td>\n",
       "      <td>0.0589</td>\n",
       "      <td>-4.095</td>\n",
       "      <td>1</td>\n",
       "      <td>0.0294</td>\n",
       "      <td>167.060</td>\n",
       "      <td>4</td>\n",
       "      <td>0.474</td>\n",
       "    </tr>\n",
       "    <tr>\n",
       "      <th>1</th>\n",
       "      <td>In The End</td>\n",
       "      <td>66</td>\n",
       "      <td>216933</td>\n",
       "      <td>0.010300</td>\n",
       "      <td>0.542</td>\n",
       "      <td>0.853</td>\n",
       "      <td>0.000000</td>\n",
       "      <td>3</td>\n",
       "      <td>0.1080</td>\n",
       "      <td>-6.407</td>\n",
       "      <td>0</td>\n",
       "      <td>0.0498</td>\n",
       "      <td>105.256</td>\n",
       "      <td>4</td>\n",
       "      <td>0.370</td>\n",
       "    </tr>\n",
       "    <tr>\n",
       "      <th>2</th>\n",
       "      <td>Seven Nation Army</td>\n",
       "      <td>76</td>\n",
       "      <td>231733</td>\n",
       "      <td>0.008170</td>\n",
       "      <td>0.737</td>\n",
       "      <td>0.463</td>\n",
       "      <td>0.447000</td>\n",
       "      <td>0</td>\n",
       "      <td>0.2550</td>\n",
       "      <td>-7.828</td>\n",
       "      <td>1</td>\n",
       "      <td>0.0792</td>\n",
       "      <td>123.881</td>\n",
       "      <td>4</td>\n",
       "      <td>0.324</td>\n",
       "    </tr>\n",
       "    <tr>\n",
       "      <th>3</th>\n",
       "      <td>By The Way</td>\n",
       "      <td>74</td>\n",
       "      <td>216933</td>\n",
       "      <td>0.026400</td>\n",
       "      <td>0.451</td>\n",
       "      <td>0.970</td>\n",
       "      <td>0.003550</td>\n",
       "      <td>0</td>\n",
       "      <td>0.1020</td>\n",
       "      <td>-4.938</td>\n",
       "      <td>1</td>\n",
       "      <td>0.1070</td>\n",
       "      <td>122.444</td>\n",
       "      <td>4</td>\n",
       "      <td>0.198</td>\n",
       "    </tr>\n",
       "    <tr>\n",
       "      <th>4</th>\n",
       "      <td>How You Remind Me</td>\n",
       "      <td>56</td>\n",
       "      <td>223826</td>\n",
       "      <td>0.000954</td>\n",
       "      <td>0.447</td>\n",
       "      <td>0.766</td>\n",
       "      <td>0.000000</td>\n",
       "      <td>10</td>\n",
       "      <td>0.1130</td>\n",
       "      <td>-5.065</td>\n",
       "      <td>1</td>\n",
       "      <td>0.0313</td>\n",
       "      <td>172.011</td>\n",
       "      <td>4</td>\n",
       "      <td>0.574</td>\n",
       "    </tr>\n",
       "  </tbody>\n",
       "</table>\n",
       "</div>"
      ],
      "text/plain": [
       "                    song_name  song_popularity  song_duration_ms  \\\n",
       "0  Boulevard of Broken Dreams               73            262333   \n",
       "1                  In The End               66            216933   \n",
       "2           Seven Nation Army               76            231733   \n",
       "3                  By The Way               74            216933   \n",
       "4           How You Remind Me               56            223826   \n",
       "\n",
       "   acousticness  danceability  energy  instrumentalness  key  liveness  \\\n",
       "0      0.005520         0.496   0.682          0.000029    8    0.0589   \n",
       "1      0.010300         0.542   0.853          0.000000    3    0.1080   \n",
       "2      0.008170         0.737   0.463          0.447000    0    0.2550   \n",
       "3      0.026400         0.451   0.970          0.003550    0    0.1020   \n",
       "4      0.000954         0.447   0.766          0.000000   10    0.1130   \n",
       "\n",
       "   loudness  audio_mode  speechiness    tempo  time_signature  audio_valence  \n",
       "0    -4.095           1       0.0294  167.060               4          0.474  \n",
       "1    -6.407           0       0.0498  105.256               4          0.370  \n",
       "2    -7.828           1       0.0792  123.881               4          0.324  \n",
       "3    -4.938           1       0.1070  122.444               4          0.198  \n",
       "4    -5.065           1       0.0313  172.011               4          0.574  "
      ]
     },
     "execution_count": 34,
     "metadata": {},
     "output_type": "execute_result"
    }
   ],
   "source": [
    "DATA_PATH = \"/Users/hilsts/Documents/linear-models-benchmark/data/\"\n",
    "\n",
    "df = pd.read_csv(DATA_PATH+\"song_data.csv\")\n",
    "df.head()"
   ]
  },
  {
   "cell_type": "markdown",
   "id": "92bb1795",
   "metadata": {},
   "source": [
    "### Data Preparation\n",
    "\n",
    "\n",
    "    Toda a preparação de dados será feita no python para deixar apenas a execução dos modelos nas demais linguagens"
   ]
  },
  {
   "cell_type": "code",
   "execution_count": 100,
   "id": "3d499e60",
   "metadata": {
    "ExecuteTime": {
     "end_time": "2022-03-06T10:44:50.293331Z",
     "start_time": "2022-03-06T10:44:50.197821Z"
    }
   },
   "outputs": [],
   "source": [
    "from sklearn.preprocessing import StandardScaler \n",
    "\n",
    "\n",
    "scaler = StandardScaler()\n",
    "\n",
    "\n",
    "X = df.drop([\"song_popularity\", \"song_name\"], axis=1)\n",
    "scaled_X = scaler.fit_transform(X)\n",
    "y = df[\"song_popularity\"]\n",
    "X_train, X_test, y_train, y_test = train_test_split(X, y, test_size=0.25)\n",
    "X_train_s, X_test_s, y_train, y_test = train_test_split(scaled_X, y, test_size=0.25)\n",
    "\n",
    "\n",
    "X_train.to_csv(DATA_PATH+\"X_train.csv\")\n",
    "X_test.to_csv(DATA_PATH+\"X_test.csv\")\n",
    "y_test.to_csv(DATA_PATH+\"y_test.csv\")\n",
    "y_train.to_csv(DATA_PATH+\"y_train.csv\")"
   ]
  },
  {
   "cell_type": "code",
   "execution_count": 101,
   "id": "1962fae8",
   "metadata": {
    "ExecuteTime": {
     "end_time": "2022-03-06T10:44:54.293513Z",
     "start_time": "2022-03-06T10:44:54.288273Z"
    }
   },
   "outputs": [
    {
     "name": "stdout",
     "output_type": "stream",
     "text": [
      "       song_duration_ms  acousticness  danceability  energy  instrumentalness  \\\n",
      "18002            184053        0.2620         0.657   0.817          0.006740   \n",
      "10521            260205        0.3690         0.515   0.794          0.000798   \n",
      "94               211437        0.1020         0.840   0.789          0.000000   \n",
      "5025             172800        0.9900         0.849   0.113          0.000094   \n",
      "11270            280253        0.6110         0.743   0.650          0.821000   \n",
      "...                 ...           ...           ...     ...               ...   \n",
      "18712            270094        0.6130         0.388   0.322          0.000534   \n",
      "2205             235986        0.6390         0.442   0.384          0.000077   \n",
      "17424            179693        0.3520         0.746   0.703          0.000000   \n",
      "11472            205264        0.3550         0.493   0.410          0.000213   \n",
      "10624            192826        0.0618         0.618   0.801          0.000000   \n",
      "\n",
      "       key  liveness  loudness  audio_mode  speechiness    tempo  \\\n",
      "18002    0    0.2480    -4.415           1       0.0554  107.995   \n",
      "10521    0    0.0825    -9.286           1       0.0553  177.574   \n",
      "94       1    0.3090    -4.695           0       0.0949   92.018   \n",
      "5025     4    0.1500   -16.883           1       0.1560   96.318   \n",
      "11270    7    0.1400    -8.584           0       0.0378  101.116   \n",
      "...    ...       ...       ...         ...          ...      ...   \n",
      "18712    2    0.0887    -8.933           1       0.0356   86.739   \n",
      "2205    10    0.0539   -14.635           1       0.0414  123.281   \n",
      "17424    4    0.3310    -4.179           0       0.1070  166.043   \n",
      "11472    8    0.1180    -8.880           1       0.0633   70.057   \n",
      "10624    8    0.1040    -5.760           1       0.2120   83.936   \n",
      "\n",
      "       time_signature  audio_valence  \n",
      "18002               4         0.6510  \n",
      "10521               4         0.6200  \n",
      "94                  4         0.6190  \n",
      "5025                4         0.7830  \n",
      "11270               4         0.8950  \n",
      "...               ...            ...  \n",
      "18712               4         0.4540  \n",
      "2205                4         0.2160  \n",
      "17424               4         0.6670  \n",
      "11472               4         0.0393  \n",
      "10624               4         0.7060  \n",
      "\n",
      "[14126 rows x 13 columns]\n",
      "[[ 0.12693148 -0.25817844  1.72699364 ...  0.69457612  0.13694446\n",
      "  -1.24666994]\n",
      " [-0.11095403  1.32125433 -0.62116497 ...  0.51539332  0.13694446\n",
      "  -0.62531121]\n",
      " [-0.67459207 -0.86480531 -0.55097545 ...  0.72835791  0.13694446\n",
      "  -0.62122332]\n",
      " ...\n",
      " [-0.75719909 -0.7275055  -0.20002783 ... -0.1451626   0.13694446\n",
      "   0.47841812]\n",
      " [-0.80839641 -0.22007809 -0.69773536 ... -0.38142618  0.13694446\n",
      "   1.30417117]\n",
      " [-0.86102979 -0.53180824  0.88471936 ... -1.08189336  0.13694446\n",
      "  -0.60078389]]\n"
     ]
    }
   ],
   "source": [
    "print(X_train)\n",
    "\n",
    "print(X_train_s)"
   ]
  },
  {
   "cell_type": "code",
   "execution_count": 102,
   "id": "2241b59e",
   "metadata": {
    "ExecuteTime": {
     "end_time": "2022-03-06T10:45:01.015870Z",
     "start_time": "2022-03-06T10:45:01.013619Z"
    }
   },
   "outputs": [
    {
     "data": {
      "text/plain": [
       "{58}"
      ]
     },
     "execution_count": 102,
     "metadata": {},
     "output_type": "execute_result"
    }
   ],
   "source": [
    "set(list(pred_s))"
   ]
  },
  {
   "cell_type": "code",
   "execution_count": 107,
   "id": "b3155888",
   "metadata": {
    "ExecuteTime": {
     "end_time": "2022-03-06T13:52:33.977626Z",
     "start_time": "2022-03-06T13:52:25.783892Z"
    }
   },
   "outputs": [
    {
     "name": "stdout",
     "output_type": "stream",
     "text": [
      "0.033552771289021024\n",
      "0.015926948396687193\n",
      "800.8231046931407\n"
     ]
    }
   ],
   "source": [
    "import numpy as np\n",
    "from sklearn.linear_model import LogisticRegression\n",
    "from sklearn.metrics import mean_squared_error\n",
    "lr = LogisticRegression(fit_intercept=True)\n",
    "\n",
    "lr.fit(X_train_s, y_train)\n",
    "pred_s = lr.predict(X_test_s)\n",
    "print(lr.score(X_test_s, y_test))\n",
    "\n",
    "lr.fit(X_train, y_train)\n",
    "pred = lr.predict(X_test)\n",
    "print(lr.score(X_test, y_test))\n",
    "\n",
    "print(mean_squared_error(y_test, pred_s))"
   ]
  },
  {
   "cell_type": "code",
   "execution_count": 87,
   "id": "b2c0c155",
   "metadata": {
    "ExecuteTime": {
     "end_time": "2022-03-06T10:37:48.266611Z",
     "start_time": "2022-03-06T10:37:48.264514Z"
    }
   },
   "outputs": [
    {
     "data": {
      "text/plain": [
       "(4709,)"
      ]
     },
     "execution_count": 87,
     "metadata": {},
     "output_type": "execute_result"
    }
   ],
   "source": [
    "pred_s.shape"
   ]
  },
  {
   "cell_type": "code",
   "execution_count": 82,
   "id": "ba4bc6ec",
   "metadata": {
    "ExecuteTime": {
     "end_time": "2022-03-06T10:36:51.763508Z",
     "start_time": "2022-03-06T10:36:51.761142Z"
    }
   },
   "outputs": [
    {
     "data": {
      "text/plain": [
       "67"
      ]
     },
     "execution_count": 82,
     "metadata": {},
     "output_type": "execute_result"
    }
   ],
   "source": [
    "len(list(set(list(pred_s))))"
   ]
  },
  {
   "cell_type": "code",
   "execution_count": 44,
   "id": "4e121964",
   "metadata": {
    "ExecuteTime": {
     "end_time": "2022-03-06T09:58:10.921142Z",
     "start_time": "2022-03-06T09:58:10.918133Z"
    }
   },
   "outputs": [
    {
     "data": {
      "text/plain": [
       "(1, 244855)"
      ]
     },
     "execution_count": 44,
     "metadata": {},
     "output_type": "execute_result"
    }
   ],
   "source": []
  },
  {
   "cell_type": "code",
   "execution_count": null,
   "id": "aac274f3",
   "metadata": {},
   "outputs": [],
   "source": []
  },
  {
   "cell_type": "code",
   "execution_count": 8,
   "id": "0158da72",
   "metadata": {
    "ExecuteTime": {
     "end_time": "2022-03-06T06:09:54.621573Z",
     "start_time": "2022-03-06T06:09:54.619626Z"
    }
   },
   "outputs": [
    {
     "data": {
      "text/plain": [
       "array([ 6,  8,  9, 11])"
      ]
     },
     "execution_count": 8,
     "metadata": {},
     "output_type": "execute_result"
    }
   ],
   "source": [
    "y"
   ]
  },
  {
   "cell_type": "code",
   "execution_count": 9,
   "id": "ddf5bb6a",
   "metadata": {
    "ExecuteTime": {
     "end_time": "2022-03-06T09:51:54.977430Z",
     "start_time": "2022-03-06T09:51:54.975613Z"
    }
   },
   "outputs": [],
   "source": [
    "import numpy as np"
   ]
  },
  {
   "cell_type": "code",
   "execution_count": 32,
   "id": "1f91ca43",
   "metadata": {
    "ExecuteTime": {
     "end_time": "2022-03-06T09:55:54.875676Z",
     "start_time": "2022-03-06T09:55:54.873443Z"
    }
   },
   "outputs": [
    {
     "data": {
      "text/plain": [
       "(4, 2)"
      ]
     },
     "execution_count": 32,
     "metadata": {},
     "output_type": "execute_result"
    }
   ],
   "source": [
    "X.shape"
   ]
  },
  {
   "cell_type": "code",
   "execution_count": 29,
   "id": "cb088a19",
   "metadata": {
    "ExecuteTime": {
     "end_time": "2022-03-06T09:54:59.384186Z",
     "start_time": "2022-03-06T09:54:59.374470Z"
    }
   },
   "outputs": [
    {
     "data": {
      "text/plain": [
       "array([[ 0],\n",
       "       [ 1],\n",
       "       [ 2],\n",
       "       [ 3],\n",
       "       [ 4],\n",
       "       [ 5],\n",
       "       [ 6],\n",
       "       [ 7],\n",
       "       [ 8],\n",
       "       [ 9],\n",
       "       [10],\n",
       "       [11],\n",
       "       [12],\n",
       "       [13],\n",
       "       [14],\n",
       "       [15],\n",
       "       [16],\n",
       "       [17],\n",
       "       [18],\n",
       "       [19],\n",
       "       [20]])"
      ]
     },
     "execution_count": 29,
     "metadata": {},
     "output_type": "execute_result"
    }
   ],
   "source": [
    "a = np.arange(21).reshape((3, 7))\n",
    "a.reshape(-1, 1)"
   ]
  },
  {
   "cell_type": "code",
   "execution_count": 17,
   "id": "e2a19222",
   "metadata": {
    "ExecuteTime": {
     "end_time": "2022-03-06T09:53:20.120514Z",
     "start_time": "2022-03-06T09:53:20.117829Z"
    }
   },
   "outputs": [
    {
     "data": {
      "text/plain": [
       "array([0, 1, 2, 3, 4, 5])"
      ]
     },
     "execution_count": 17,
     "metadata": {},
     "output_type": "execute_result"
    }
   ],
   "source": [
    "np.arange(6)"
   ]
  },
  {
   "cell_type": "code",
   "execution_count": 30,
   "id": "f936db8c",
   "metadata": {
    "ExecuteTime": {
     "end_time": "2022-03-06T09:55:05.318871Z",
     "start_time": "2022-03-06T09:55:05.308634Z"
    }
   },
   "outputs": [
    {
     "data": {
      "text/plain": [
       "array([[ 0,  1,  2,  3,  4,  5,  6],\n",
       "       [ 7,  8,  9, 10, 11, 12, 13],\n",
       "       [14, 15, 16, 17, 18, 19, 20]])"
      ]
     },
     "execution_count": 30,
     "metadata": {},
     "output_type": "execute_result"
    }
   ],
   "source": [
    "a"
   ]
  },
  {
   "cell_type": "code",
   "execution_count": null,
   "id": "2a1c6dd7",
   "metadata": {},
   "outputs": [],
   "source": []
  }
 ],
 "metadata": {
  "kernelspec": {
   "display_name": "Python 3 (ipykernel)",
   "language": "python",
   "name": "python3"
  },
  "language_info": {
   "codemirror_mode": {
    "name": "ipython",
    "version": 3
   },
   "file_extension": ".py",
   "mimetype": "text/x-python",
   "name": "python",
   "nbconvert_exporter": "python",
   "pygments_lexer": "ipython3",
   "version": "3.9.10"
  },
  "toc": {
   "base_numbering": 1,
   "nav_menu": {},
   "number_sections": true,
   "sideBar": true,
   "skip_h1_title": false,
   "title_cell": "Table of Contents",
   "title_sidebar": "Contents",
   "toc_cell": false,
   "toc_position": {},
   "toc_section_display": true,
   "toc_window_display": false
  },
  "varInspector": {
   "cols": {
    "lenName": 16,
    "lenType": 16,
    "lenVar": 40
   },
   "kernels_config": {
    "python": {
     "delete_cmd_postfix": "",
     "delete_cmd_prefix": "del ",
     "library": "var_list.py",
     "varRefreshCmd": "print(var_dic_list())"
    },
    "r": {
     "delete_cmd_postfix": ") ",
     "delete_cmd_prefix": "rm(",
     "library": "var_list.r",
     "varRefreshCmd": "cat(var_dic_list()) "
    }
   },
   "types_to_exclude": [
    "module",
    "function",
    "builtin_function_or_method",
    "instance",
    "_Feature"
   ],
   "window_display": false
  }
 },
 "nbformat": 4,
 "nbformat_minor": 5
}
