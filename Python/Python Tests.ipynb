{
 "cells": [
  {
   "cell_type": "markdown",
   "id": "fa56e4d0",
   "metadata": {},
   "source": [
    "### Imports"
   ]
  },
  {
   "cell_type": "code",
   "execution_count": 3,
   "id": "b67d06ca",
   "metadata": {
    "ExecuteTime": {
     "end_time": "2022-07-12T20:58:29.147756Z",
     "start_time": "2022-07-12T20:58:28.738660Z"
    }
   },
   "outputs": [],
   "source": [
    "import pandas as pd\n",
    "from sklearn import linear_model\n",
    "from sklearn.model_selection import train_test_split\n",
    "import warnings\n",
    "warnings.filterwarnings(\"ignore\")"
   ]
  },
  {
   "cell_type": "code",
   "execution_count": 4,
   "id": "ea366b0b",
   "metadata": {
    "ExecuteTime": {
     "end_time": "2022-07-12T20:58:30.065736Z",
     "start_time": "2022-07-12T20:58:29.999920Z"
    }
   },
   "outputs": [
    {
     "data": {
      "text/html": [
       "<div>\n",
       "<style scoped>\n",
       "    .dataframe tbody tr th:only-of-type {\n",
       "        vertical-align: middle;\n",
       "    }\n",
       "\n",
       "    .dataframe tbody tr th {\n",
       "        vertical-align: top;\n",
       "    }\n",
       "\n",
       "    .dataframe thead th {\n",
       "        text-align: right;\n",
       "    }\n",
       "</style>\n",
       "<table border=\"1\" class=\"dataframe\">\n",
       "  <thead>\n",
       "    <tr style=\"text-align: right;\">\n",
       "      <th></th>\n",
       "      <th>song_name</th>\n",
       "      <th>song_popularity</th>\n",
       "      <th>song_duration_ms</th>\n",
       "      <th>acousticness</th>\n",
       "      <th>danceability</th>\n",
       "      <th>energy</th>\n",
       "      <th>instrumentalness</th>\n",
       "      <th>key</th>\n",
       "      <th>liveness</th>\n",
       "      <th>loudness</th>\n",
       "      <th>audio_mode</th>\n",
       "      <th>speechiness</th>\n",
       "      <th>tempo</th>\n",
       "      <th>time_signature</th>\n",
       "      <th>audio_valence</th>\n",
       "    </tr>\n",
       "  </thead>\n",
       "  <tbody>\n",
       "    <tr>\n",
       "      <th>0</th>\n",
       "      <td>Boulevard of Broken Dreams</td>\n",
       "      <td>73</td>\n",
       "      <td>262333</td>\n",
       "      <td>0.005520</td>\n",
       "      <td>0.496</td>\n",
       "      <td>0.682</td>\n",
       "      <td>0.000029</td>\n",
       "      <td>8</td>\n",
       "      <td>0.0589</td>\n",
       "      <td>-4.095</td>\n",
       "      <td>1</td>\n",
       "      <td>0.0294</td>\n",
       "      <td>167.060</td>\n",
       "      <td>4</td>\n",
       "      <td>0.474</td>\n",
       "    </tr>\n",
       "    <tr>\n",
       "      <th>1</th>\n",
       "      <td>In The End</td>\n",
       "      <td>66</td>\n",
       "      <td>216933</td>\n",
       "      <td>0.010300</td>\n",
       "      <td>0.542</td>\n",
       "      <td>0.853</td>\n",
       "      <td>0.000000</td>\n",
       "      <td>3</td>\n",
       "      <td>0.1080</td>\n",
       "      <td>-6.407</td>\n",
       "      <td>0</td>\n",
       "      <td>0.0498</td>\n",
       "      <td>105.256</td>\n",
       "      <td>4</td>\n",
       "      <td>0.370</td>\n",
       "    </tr>\n",
       "    <tr>\n",
       "      <th>2</th>\n",
       "      <td>Seven Nation Army</td>\n",
       "      <td>76</td>\n",
       "      <td>231733</td>\n",
       "      <td>0.008170</td>\n",
       "      <td>0.737</td>\n",
       "      <td>0.463</td>\n",
       "      <td>0.447000</td>\n",
       "      <td>0</td>\n",
       "      <td>0.2550</td>\n",
       "      <td>-7.828</td>\n",
       "      <td>1</td>\n",
       "      <td>0.0792</td>\n",
       "      <td>123.881</td>\n",
       "      <td>4</td>\n",
       "      <td>0.324</td>\n",
       "    </tr>\n",
       "    <tr>\n",
       "      <th>3</th>\n",
       "      <td>By The Way</td>\n",
       "      <td>74</td>\n",
       "      <td>216933</td>\n",
       "      <td>0.026400</td>\n",
       "      <td>0.451</td>\n",
       "      <td>0.970</td>\n",
       "      <td>0.003550</td>\n",
       "      <td>0</td>\n",
       "      <td>0.1020</td>\n",
       "      <td>-4.938</td>\n",
       "      <td>1</td>\n",
       "      <td>0.1070</td>\n",
       "      <td>122.444</td>\n",
       "      <td>4</td>\n",
       "      <td>0.198</td>\n",
       "    </tr>\n",
       "    <tr>\n",
       "      <th>4</th>\n",
       "      <td>How You Remind Me</td>\n",
       "      <td>56</td>\n",
       "      <td>223826</td>\n",
       "      <td>0.000954</td>\n",
       "      <td>0.447</td>\n",
       "      <td>0.766</td>\n",
       "      <td>0.000000</td>\n",
       "      <td>10</td>\n",
       "      <td>0.1130</td>\n",
       "      <td>-5.065</td>\n",
       "      <td>1</td>\n",
       "      <td>0.0313</td>\n",
       "      <td>172.011</td>\n",
       "      <td>4</td>\n",
       "      <td>0.574</td>\n",
       "    </tr>\n",
       "  </tbody>\n",
       "</table>\n",
       "</div>"
      ],
      "text/plain": [
       "                    song_name  song_popularity  song_duration_ms  \\\n",
       "0  Boulevard of Broken Dreams               73            262333   \n",
       "1                  In The End               66            216933   \n",
       "2           Seven Nation Army               76            231733   \n",
       "3                  By The Way               74            216933   \n",
       "4           How You Remind Me               56            223826   \n",
       "\n",
       "   acousticness  danceability  energy  instrumentalness  key  liveness  \\\n",
       "0      0.005520         0.496   0.682          0.000029    8    0.0589   \n",
       "1      0.010300         0.542   0.853          0.000000    3    0.1080   \n",
       "2      0.008170         0.737   0.463          0.447000    0    0.2550   \n",
       "3      0.026400         0.451   0.970          0.003550    0    0.1020   \n",
       "4      0.000954         0.447   0.766          0.000000   10    0.1130   \n",
       "\n",
       "   loudness  audio_mode  speechiness    tempo  time_signature  audio_valence  \n",
       "0    -4.095           1       0.0294  167.060               4          0.474  \n",
       "1    -6.407           0       0.0498  105.256               4          0.370  \n",
       "2    -7.828           1       0.0792  123.881               4          0.324  \n",
       "3    -4.938           1       0.1070  122.444               4          0.198  \n",
       "4    -5.065           1       0.0313  172.011               4          0.574  "
      ]
     },
     "execution_count": 4,
     "metadata": {},
     "output_type": "execute_result"
    }
   ],
   "source": [
    "DATA_PATH = \"/Users/hilsts/Documents/linear-models-benchmark/data/\"\n",
    "\n",
    "df = pd.read_csv(DATA_PATH+\"song_data.csv\")\n",
    "df.head()"
   ]
  },
  {
   "cell_type": "markdown",
   "id": "92bb1795",
   "metadata": {},
   "source": [
    "### Data Preparation\n",
    "\n",
    "\n",
    "    Toda a preparação de dados será feita no python para deixar apenas a execução dos modelos nas demais linguagens"
   ]
  },
  {
   "cell_type": "code",
   "execution_count": 5,
   "id": "3d499e60",
   "metadata": {
    "ExecuteTime": {
     "end_time": "2022-07-12T20:58:32.884775Z",
     "start_time": "2022-07-12T20:58:32.746647Z"
    }
   },
   "outputs": [],
   "source": [
    "from sklearn.preprocessing import StandardScaler \n",
    "\n",
    "\n",
    "scaler = StandardScaler()\n",
    "\n",
    "\n",
    "X = df.drop([\"song_popularity\", \"song_name\"], axis=1)\n",
    "scaled_X = scaler.fit_transform(X)\n",
    "y = df[\"song_popularity\"]\n",
    "X_train, X_test, y_train, y_test = train_test_split(X, y, test_size=0.25)\n",
    "X_train_s, X_test_s, y_train, y_test = train_test_split(scaled_X, y, test_size=0.25)\n",
    "\n",
    "\n",
    "X_train.to_csv(DATA_PATH+\"X_train.csv\")\n",
    "X_test.to_csv(DATA_PATH+\"X_test.csv\")\n",
    "y_test.to_csv(DATA_PATH+\"y_test.csv\")\n",
    "y_train.to_csv(DATA_PATH+\"y_train.csv\")"
   ]
  },
  {
   "cell_type": "code",
   "execution_count": 6,
   "id": "1962fae8",
   "metadata": {
    "ExecuteTime": {
     "end_time": "2022-07-12T20:58:35.244982Z",
     "start_time": "2022-07-12T20:58:35.222114Z"
    }
   },
   "outputs": [
    {
     "name": "stdout",
     "output_type": "stream",
     "text": [
      "       song_duration_ms  acousticness  danceability  energy  instrumentalness  \\\n",
      "13867            173600       0.06510         0.797  0.8440          0.000000   \n",
      "8660             269186       0.42600         0.773  0.8190          0.000000   \n",
      "2628             255400       0.01330         0.546  0.8780          0.000000   \n",
      "9259             439480       0.00107         0.747  0.7000          0.043800   \n",
      "5860             140533       0.90800         0.432  0.2020          0.000000   \n",
      "...                 ...           ...           ...     ...               ...   \n",
      "16736            152573       0.15500         0.402  0.5030          0.000002   \n",
      "10745            120450       0.09890         0.688  0.5110          0.540000   \n",
      "16991            214552       0.94000         0.258  0.0971          0.000000   \n",
      "15727            232453       0.05620         0.645  0.7920          0.012100   \n",
      "18191            225587       0.13400         0.529  0.8170          0.000000   \n",
      "\n",
      "       key  liveness  loudness  audio_mode  speechiness    tempo  \\\n",
      "13867   11    0.0870    -5.482           1       0.2750  170.142   \n",
      "8660     0    0.0679    -5.946           0       0.1180   92.990   \n",
      "2628     7    0.1350    -5.137           1       0.0525  119.945   \n",
      "9259    10    0.1360    -9.448           0       0.0508  114.792   \n",
      "5860     0    0.1810   -14.518           1       0.0283  100.082   \n",
      "...    ...       ...       ...         ...          ...      ...   \n",
      "16736    8    0.0827    -9.350           1       0.0367  127.717   \n",
      "10745    5    0.1080    -9.474           1       0.0316   88.039   \n",
      "16991    0    0.1220   -13.002           1       0.0302   65.346   \n",
      "15727    4    0.1190    -7.340           0       0.0360   90.565   \n",
      "18191    9    0.0905    -4.050           0       0.0520   77.053   \n",
      "\n",
      "       time_signature  audio_valence  \n",
      "13867               4         0.5200  \n",
      "8660                4         0.5850  \n",
      "2628                4         0.3500  \n",
      "9259                4         0.7800  \n",
      "5860                3         0.6410  \n",
      "...               ...            ...  \n",
      "16736               4         0.8820  \n",
      "10745               4         0.7530  \n",
      "16991               3         0.0767  \n",
      "15727               4         0.6660  \n",
      "18191               4         0.2990  \n",
      "\n",
      "[14126 rows x 13 columns]\n",
      "[[ 2.38589203  0.28215382  0.53377174 ... -1.40017356  0.13694446\n",
      "   1.39819256]\n",
      " [ 1.40733196 -0.74274564  0.61672299 ... -0.5243545   0.13694446\n",
      "  -0.33507127]\n",
      " [ 1.04400801 -0.62532728  0.23387105 ...  0.97207438  0.13694446\n",
      "   0.62558203]\n",
      " ...\n",
      " [-0.58662486 -0.56505946 -0.19364696 ... -1.0131805   0.13694446\n",
      "   0.31490266]\n",
      " [-1.31826558  0.87790478 -0.44250073 ...  1.46281584  0.13694446\n",
      "   0.42527559]\n",
      " [ 1.32632799  0.66315734  0.71243598 ...  1.54441454  0.13694446\n",
      "   1.46359874]]\n"
     ]
    }
   ],
   "source": [
    "print(X_train)\n",
    "\n",
    "print(X_train_s)"
   ]
  },
  {
   "cell_type": "code",
   "execution_count": 23,
   "id": "b3155888",
   "metadata": {
    "ExecuteTime": {
     "end_time": "2022-07-12T21:14:00.508810Z",
     "start_time": "2022-07-12T21:13:54.880610Z"
    }
   },
   "outputs": [
    {
     "name": "stdout",
     "output_type": "stream",
     "text": [
      "0.03206625610533022\n",
      "0.022085368443406243\n",
      "3.3447610703416917\n"
     ]
    }
   ],
   "source": [
    "import numpy as np\n",
    "from sklearn.linear_model import LogisticRegression\n",
    "from sklearn.metrics import mean_squared_error\n",
    "lr = LogisticRegression(fit_intercept=True)\n",
    "\n",
    "lr.fit(X_train_s, y_train)\n",
    "pred_s = lr.predict(X_test_s)\n",
    "print(lr.score(X_test_s, y_test))\n",
    "\n",
    "lr.fit(X_train, y_train)\n",
    "pred = lr.predict(X_test)\n",
    "print(lr.score(X_test, y_test))\n",
    "\n",
    "print(np.log(np.sqrt(mean_squared_error(y_test, pred_s))))"
   ]
  },
  {
   "cell_type": "code",
   "execution_count": 28,
   "id": "543a3023",
   "metadata": {
    "ExecuteTime": {
     "end_time": "2022-07-12T21:19:46.705252Z",
     "start_time": "2022-07-12T21:19:46.693444Z"
    }
   },
   "outputs": [
    {
     "data": {
      "text/plain": [
       "8847      2.0\n",
       "2726     22.0\n",
       "15859     0.0\n",
       "14148    24.0\n",
       "2658     30.0\n",
       "         ... \n",
       "16106    70.0\n",
       "7489      6.0\n",
       "15690     9.0\n",
       "10207    12.0\n",
       "17973    40.0\n",
       "Name: song_popularity, Length: 4709, dtype: float64"
      ]
     },
     "execution_count": 28,
     "metadata": {},
     "output_type": "execute_result"
    }
   ],
   "source": [
    "np.sqrt((y_test - pred_s)**2)"
   ]
  },
  {
   "cell_type": "code",
   "execution_count": 22,
   "id": "b2c0c155",
   "metadata": {
    "ExecuteTime": {
     "end_time": "2022-07-12T21:13:02.836428Z",
     "start_time": "2022-07-12T21:13:02.832424Z"
    }
   },
   "outputs": [
    {
     "data": {
      "text/plain": [
       "1.6570930023362629"
      ]
     },
     "execution_count": 22,
     "metadata": {},
     "output_type": "execute_result"
    }
   ],
   "source": [
    "test = np.array([10, 15, 40, 40])\n",
    "pred = np.array([11, 12, 30, 40])\n",
    "\n",
    "np.log(np.sqrt(mean_squared_error(test, pred)))"
   ]
  },
  {
   "cell_type": "code",
   "execution_count": 82,
   "id": "ba4bc6ec",
   "metadata": {
    "ExecuteTime": {
     "end_time": "2022-03-06T10:36:51.763508Z",
     "start_time": "2022-03-06T10:36:51.761142Z"
    }
   },
   "outputs": [
    {
     "data": {
      "text/plain": [
       "67"
      ]
     },
     "execution_count": 82,
     "metadata": {},
     "output_type": "execute_result"
    }
   ],
   "source": []
  },
  {
   "cell_type": "code",
   "execution_count": 44,
   "id": "4e121964",
   "metadata": {
    "ExecuteTime": {
     "end_time": "2022-03-06T09:58:10.921142Z",
     "start_time": "2022-03-06T09:58:10.918133Z"
    }
   },
   "outputs": [
    {
     "data": {
      "text/plain": [
       "(1, 244855)"
      ]
     },
     "execution_count": 44,
     "metadata": {},
     "output_type": "execute_result"
    }
   ],
   "source": []
  },
  {
   "cell_type": "code",
   "execution_count": null,
   "id": "aac274f3",
   "metadata": {},
   "outputs": [],
   "source": []
  },
  {
   "cell_type": "code",
   "execution_count": 8,
   "id": "0158da72",
   "metadata": {
    "ExecuteTime": {
     "end_time": "2022-03-06T06:09:54.621573Z",
     "start_time": "2022-03-06T06:09:54.619626Z"
    }
   },
   "outputs": [
    {
     "data": {
      "text/plain": [
       "array([ 6,  8,  9, 11])"
      ]
     },
     "execution_count": 8,
     "metadata": {},
     "output_type": "execute_result"
    }
   ],
   "source": [
    "y"
   ]
  },
  {
   "cell_type": "code",
   "execution_count": 9,
   "id": "ddf5bb6a",
   "metadata": {
    "ExecuteTime": {
     "end_time": "2022-03-06T09:51:54.977430Z",
     "start_time": "2022-03-06T09:51:54.975613Z"
    }
   },
   "outputs": [],
   "source": [
    "import numpy as np"
   ]
  },
  {
   "cell_type": "code",
   "execution_count": 32,
   "id": "1f91ca43",
   "metadata": {
    "ExecuteTime": {
     "end_time": "2022-03-06T09:55:54.875676Z",
     "start_time": "2022-03-06T09:55:54.873443Z"
    }
   },
   "outputs": [
    {
     "data": {
      "text/plain": [
       "(4, 2)"
      ]
     },
     "execution_count": 32,
     "metadata": {},
     "output_type": "execute_result"
    }
   ],
   "source": [
    "X.shape"
   ]
  },
  {
   "cell_type": "code",
   "execution_count": 29,
   "id": "cb088a19",
   "metadata": {
    "ExecuteTime": {
     "end_time": "2022-03-06T09:54:59.384186Z",
     "start_time": "2022-03-06T09:54:59.374470Z"
    }
   },
   "outputs": [
    {
     "data": {
      "text/plain": [
       "array([[ 0],\n",
       "       [ 1],\n",
       "       [ 2],\n",
       "       [ 3],\n",
       "       [ 4],\n",
       "       [ 5],\n",
       "       [ 6],\n",
       "       [ 7],\n",
       "       [ 8],\n",
       "       [ 9],\n",
       "       [10],\n",
       "       [11],\n",
       "       [12],\n",
       "       [13],\n",
       "       [14],\n",
       "       [15],\n",
       "       [16],\n",
       "       [17],\n",
       "       [18],\n",
       "       [19],\n",
       "       [20]])"
      ]
     },
     "execution_count": 29,
     "metadata": {},
     "output_type": "execute_result"
    }
   ],
   "source": [
    "a = np.arange(21).reshape((3, 7))\n",
    "a.reshape(-1, 1)"
   ]
  },
  {
   "cell_type": "code",
   "execution_count": 17,
   "id": "e2a19222",
   "metadata": {
    "ExecuteTime": {
     "end_time": "2022-03-06T09:53:20.120514Z",
     "start_time": "2022-03-06T09:53:20.117829Z"
    }
   },
   "outputs": [
    {
     "data": {
      "text/plain": [
       "array([0, 1, 2, 3, 4, 5])"
      ]
     },
     "execution_count": 17,
     "metadata": {},
     "output_type": "execute_result"
    }
   ],
   "source": [
    "np.arange(6)"
   ]
  },
  {
   "cell_type": "code",
   "execution_count": 30,
   "id": "f936db8c",
   "metadata": {
    "ExecuteTime": {
     "end_time": "2022-03-06T09:55:05.318871Z",
     "start_time": "2022-03-06T09:55:05.308634Z"
    }
   },
   "outputs": [
    {
     "data": {
      "text/plain": [
       "array([[ 0,  1,  2,  3,  4,  5,  6],\n",
       "       [ 7,  8,  9, 10, 11, 12, 13],\n",
       "       [14, 15, 16, 17, 18, 19, 20]])"
      ]
     },
     "execution_count": 30,
     "metadata": {},
     "output_type": "execute_result"
    }
   ],
   "source": [
    "a"
   ]
  },
  {
   "cell_type": "code",
   "execution_count": null,
   "id": "2a1c6dd7",
   "metadata": {},
   "outputs": [],
   "source": []
  }
 ],
 "metadata": {
  "kernelspec": {
   "display_name": "Python 3 (ipykernel)",
   "language": "python",
   "name": "python3"
  },
  "language_info": {
   "codemirror_mode": {
    "name": "ipython",
    "version": 3
   },
   "file_extension": ".py",
   "mimetype": "text/x-python",
   "name": "python",
   "nbconvert_exporter": "python",
   "pygments_lexer": "ipython3",
   "version": "3.9.10"
  },
  "toc": {
   "base_numbering": 1,
   "nav_menu": {},
   "number_sections": true,
   "sideBar": true,
   "skip_h1_title": false,
   "title_cell": "Table of Contents",
   "title_sidebar": "Contents",
   "toc_cell": false,
   "toc_position": {
    "height": "calc(100% - 180px)",
    "left": "10px",
    "top": "150px",
    "width": "227px"
   },
   "toc_section_display": true,
   "toc_window_display": true
  },
  "varInspector": {
   "cols": {
    "lenName": 16,
    "lenType": 16,
    "lenVar": 40
   },
   "kernels_config": {
    "python": {
     "delete_cmd_postfix": "",
     "delete_cmd_prefix": "del ",
     "library": "var_list.py",
     "varRefreshCmd": "print(var_dic_list())"
    },
    "r": {
     "delete_cmd_postfix": ") ",
     "delete_cmd_prefix": "rm(",
     "library": "var_list.r",
     "varRefreshCmd": "cat(var_dic_list()) "
    }
   },
   "types_to_exclude": [
    "module",
    "function",
    "builtin_function_or_method",
    "instance",
    "_Feature"
   ],
   "window_display": false
  }
 },
 "nbformat": 4,
 "nbformat_minor": 5
}
