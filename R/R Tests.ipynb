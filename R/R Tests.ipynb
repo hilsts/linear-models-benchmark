{
 "cells": [
  {
   "cell_type": "code",
   "execution_count": 31,
   "id": "ae2dd9c3",
   "metadata": {
    "ExecuteTime": {
     "end_time": "2022-07-17T22:06:40.570221Z",
     "start_time": "2022-07-17T22:06:40.536Z"
    }
   },
   "outputs": [],
   "source": [
    "library(glmnet)"
   ]
  },
  {
   "cell_type": "code",
   "execution_count": 32,
   "id": "d8f0009b",
   "metadata": {
    "ExecuteTime": {
     "end_time": "2022-07-17T22:06:44.023335Z",
     "start_time": "2022-07-17T22:06:41.694Z"
    }
   },
   "outputs": [],
   "source": [
    "DATA_PATH = \"/Users/hilsts/Documents/linear-models-benchmark/data/\""
   ]
  },
  {
   "cell_type": "code",
   "execution_count": 33,
   "id": "192e8c6f",
   "metadata": {
    "ExecuteTime": {
     "end_time": "2022-07-17T22:06:47.447719Z",
     "start_time": "2022-07-17T22:06:42.944Z"
    }
   },
   "outputs": [],
   "source": [
    "data1 <- read.csv(paste(DATA_PATH,\"song_data.csv\", sep = \"\"))"
   ]
  },
  {
   "cell_type": "code",
   "execution_count": 34,
   "id": "82e38d42",
   "metadata": {
    "ExecuteTime": {
     "end_time": "2022-07-17T22:06:50.983423Z",
     "start_time": "2022-07-17T22:06:48.239Z"
    }
   },
   "outputs": [
    {
     "data": {
      "text/html": [
       "<style>\n",
       ".list-inline {list-style: none; margin:0; padding: 0}\n",
       ".list-inline>li {display: inline-block}\n",
       ".list-inline>li:not(:last-child)::after {content: \"\\00b7\"; padding: 0 .5ex}\n",
       "</style>\n",
       "<ol class=list-inline><li>14126</li><li>14</li></ol>\n"
      ],
      "text/latex": [
       "\\begin{enumerate*}\n",
       "\\item 14126\n",
       "\\item 14\n",
       "\\end{enumerate*}\n"
      ],
      "text/markdown": [
       "1. 14126\n",
       "2. 14\n",
       "\n",
       "\n"
      ],
      "text/plain": [
       "[1] 14126    14"
      ]
     },
     "metadata": {},
     "output_type": "display_data"
    },
    {
     "data": {
      "text/html": [
       "<style>\n",
       ".list-inline {list-style: none; margin:0; padding: 0}\n",
       ".list-inline>li {display: inline-block}\n",
       ".list-inline>li:not(:last-child)::after {content: \"\\00b7\"; padding: 0 .5ex}\n",
       "</style>\n",
       "<ol class=list-inline><li>4709</li><li>14</li></ol>\n"
      ],
      "text/latex": [
       "\\begin{enumerate*}\n",
       "\\item 4709\n",
       "\\item 14\n",
       "\\end{enumerate*}\n"
      ],
      "text/markdown": [
       "1. 4709\n",
       "2. 14\n",
       "\n",
       "\n"
      ],
      "text/plain": [
       "[1] 4709   14"
      ]
     },
     "metadata": {},
     "output_type": "display_data"
    }
   ],
   "source": [
    "set.seed(100) \n",
    "\n",
    "data1$song_name <- NULL\n",
    "\n",
    "index = sample(1:nrow(data1), 0.75*nrow(data1)) \n",
    "\n",
    "train = data1[index,] # Create the training data \n",
    "test = data1[-index,] # Create the test data\n",
    "\n",
    "dim(train)\n",
    "dim(test)"
   ]
  },
  {
   "cell_type": "markdown",
   "id": "efb0dc0d",
   "metadata": {
    "ExecuteTime": {
     "end_time": "2022-07-17T05:32:47.249624Z",
     "start_time": "2022-07-17T05:32:47.220Z"
    }
   },
   "source": [
    "### Linear Regression"
   ]
  },
  {
   "cell_type": "code",
   "execution_count": 35,
   "id": "52e01b2c",
   "metadata": {
    "ExecuteTime": {
     "end_time": "2022-07-17T22:06:54.514714Z",
     "start_time": "2022-07-17T22:06:54.491Z"
    }
   },
   "outputs": [],
   "source": [
    "lr = lm(song_popularity~., data=train)\n",
    "pred1 <- predict(lr, newdata = test)"
   ]
  },
  {
   "cell_type": "markdown",
   "id": "8a096428",
   "metadata": {
    "ExecuteTime": {
     "end_time": "2022-07-17T06:04:56.087995Z",
     "start_time": "2022-07-17T06:04:56.081Z"
    }
   },
   "source": [
    "### Elastic "
   ]
  },
  {
   "cell_type": "code",
   "execution_count": 36,
   "id": "ee6f55e6",
   "metadata": {
    "ExecuteTime": {
     "end_time": "2022-07-17T22:06:58.268707Z",
     "start_time": "2022-07-17T22:06:58.035Z"
    }
   },
   "outputs": [],
   "source": [
    "library(glmnet)\n",
    "\n",
    "x = as.matrix(train)\n",
    "y_train = train$song_popularity\n",
    "\n",
    "x_test = as.matrix(test)\n",
    "y_test = test$song_popularity\n",
    "\n",
    "lambdas <- 10^seq(2, -3, by = -.1)\n",
    "\n",
    "cv_ridge <- cv.glmnet(x, y_train, alpha = 0, lambda = lambdas)\n",
    "optimal_lambda <- cv_ridge$lambda.min\n",
    "\n",
    "predictions_test <- predict(ridge_reg, s = optimal_lambda, newx = x_test)"
   ]
  },
  {
   "cell_type": "markdown",
   "id": "a949c385",
   "metadata": {},
   "source": [
    "### Lasso"
   ]
  },
  {
   "cell_type": "code",
   "execution_count": 37,
   "id": "933b1999",
   "metadata": {
    "ExecuteTime": {
     "end_time": "2022-07-17T22:07:09.669732Z",
     "start_time": "2022-07-17T22:07:09.485Z"
    }
   },
   "outputs": [],
   "source": [
    "lasso_reg <- cv.glmnet(x, y_train, alpha = 1, lambda = lambdas, standardize = TRUE, nfolds = 5)\n",
    " \n",
    "lambda_best <- lasso_reg$lambda.min \n",
    "\n",
    "predictions_test <- predict(lasso_reg, s = lambda_best, newx = x_test)"
   ]
  }
 ],
 "metadata": {
  "kernelspec": {
   "display_name": "R",
   "language": "R",
   "name": "ir"
  },
  "language_info": {
   "codemirror_mode": "r",
   "file_extension": ".r",
   "mimetype": "text/x-r-source",
   "name": "R",
   "pygments_lexer": "r",
   "version": "4.1.2"
  },
  "toc": {
   "base_numbering": 1,
   "nav_menu": {},
   "number_sections": true,
   "sideBar": true,
   "skip_h1_title": false,
   "title_cell": "Table of Contents",
   "title_sidebar": "Contents",
   "toc_cell": false,
   "toc_position": {
    "height": "599px",
    "left": "49px",
    "top": "111.141px",
    "width": "318px"
   },
   "toc_section_display": true,
   "toc_window_display": true
  },
  "varInspector": {
   "cols": {
    "lenName": 16,
    "lenType": 16,
    "lenVar": 40
   },
   "kernels_config": {
    "python": {
     "delete_cmd_postfix": "",
     "delete_cmd_prefix": "del ",
     "library": "var_list.py",
     "varRefreshCmd": "print(var_dic_list())"
    },
    "r": {
     "delete_cmd_postfix": ") ",
     "delete_cmd_prefix": "rm(",
     "library": "var_list.r",
     "varRefreshCmd": "cat(var_dic_list()) "
    }
   },
   "types_to_exclude": [
    "module",
    "function",
    "builtin_function_or_method",
    "instance",
    "_Feature"
   ],
   "window_display": false
  }
 },
 "nbformat": 4,
 "nbformat_minor": 5
}
