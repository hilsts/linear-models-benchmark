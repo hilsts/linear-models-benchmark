{
 "cells": [
  {
   "cell_type": "markdown",
   "id": "bd8cc385",
   "metadata": {
    "ExecuteTime": {
     "end_time": "2022-03-05T23:47:44.973000-03:00",
     "start_time": "2022-03-06T02:47:44.656Z"
    }
   },
   "source": [
    "## Imports"
   ]
  },
  {
   "cell_type": "code",
   "execution_count": 21,
   "id": "2123fbfc",
   "metadata": {
    "ExecuteTime": {
     "end_time": "2022-07-17T13:20:04.420000-03:00",
     "start_time": "2022-07-17T16:20:04.414Z"
    },
    "scrolled": true
   },
   "outputs": [
    {
     "name": "stderr",
     "output_type": "stream",
     "text": [
      "WARNING: using MLBase.transform in module Main conflicts with an existing identifier.\n"
     ]
    }
   ],
   "source": [
    "using CSV\n",
    "using DataFrames\n",
    "using MLJ\n",
    "using GLM\n",
    "using Lasso\n",
    "using MLBase"
   ]
  },
  {
   "cell_type": "markdown",
   "id": "136c9ee0",
   "metadata": {},
   "source": [
    "### import base"
   ]
  },
  {
   "cell_type": "code",
   "execution_count": 20,
   "id": "15c0e3d4",
   "metadata": {
    "ExecuteTime": {
     "end_time": "2022-07-17T13:19:48.384000-03:00",
     "start_time": "2022-07-17T16:19:46.351Z"
    }
   },
   "outputs": [
    {
     "name": "stderr",
     "output_type": "stream",
     "text": [
      "\u001b[32m\u001b[1m   Resolving\u001b[22m\u001b[39m package versions...\n",
      "\u001b[32m\u001b[1m    Updating\u001b[22m\u001b[39m `~/.julia/environments/v1.7/Project.toml`\n",
      " \u001b[90m [f0e99cf1] \u001b[39m\u001b[92m+ MLBase v0.8.0\u001b[39m\n",
      "\u001b[32m\u001b[1m  No Changes\u001b[22m\u001b[39m to `~/.julia/environments/v1.7/Manifest.toml`\n"
     ]
    }
   ],
   "source": [
    "# import base\n",
    "using Pkg\n",
    "Pkg.add(\"MLBase\")"
   ]
  },
  {
   "cell_type": "markdown",
   "id": "415e7897",
   "metadata": {},
   "source": [
    "## Load data"
   ]
  },
  {
   "cell_type": "code",
   "execution_count": 2,
   "id": "ef068c24",
   "metadata": {
    "ExecuteTime": {
     "end_time": "2022-07-17T04:03:02.837000-03:00",
     "start_time": "2022-07-17T07:02:58.488Z"
    }
   },
   "outputs": [
    {
     "data": {
      "text/html": [
       "<table class=\"data-frame\"><thead><tr><th></th><th>song_name</th><th>song_popularity</th><th>song_duration_ms</th><th>acousticness</th><th>danceability</th></tr><tr><th></th><th>String</th><th>Int64</th><th>Int64</th><th>Float64</th><th>Float64</th></tr></thead><tbody><p>18,835 rows × 15 columns (omitted printing of 10 columns)</p><tr><th>1</th><td>Boulevard of Broken Dreams</td><td>73</td><td>262333</td><td>0.00552</td><td>0.496</td></tr><tr><th>2</th><td>In The End</td><td>66</td><td>216933</td><td>0.0103</td><td>0.542</td></tr><tr><th>3</th><td>Seven Nation Army</td><td>76</td><td>231733</td><td>0.00817</td><td>0.737</td></tr><tr><th>4</th><td>By The Way</td><td>74</td><td>216933</td><td>0.0264</td><td>0.451</td></tr><tr><th>5</th><td>How You Remind Me</td><td>56</td><td>223826</td><td>0.000954</td><td>0.447</td></tr><tr><th>6</th><td>Bring Me To Life</td><td>80</td><td>235893</td><td>0.00895</td><td>0.316</td></tr><tr><th>7</th><td>Last Resort</td><td>81</td><td>199893</td><td>0.000504</td><td>0.581</td></tr><tr><th>8</th><td>Are You Gonna Be My Girl</td><td>76</td><td>213800</td><td>0.00148</td><td>0.613</td></tr><tr><th>9</th><td>Mr. Brightside</td><td>80</td><td>222586</td><td>0.00108</td><td>0.33</td></tr><tr><th>10</th><td>Sex on Fire</td><td>81</td><td>203346</td><td>0.00172</td><td>0.542</td></tr><tr><th>11</th><td>The Middle</td><td>78</td><td>168253</td><td>0.0424</td><td>0.629</td></tr><tr><th>12</th><td>Numb</td><td>63</td><td>185586</td><td>0.0046</td><td>0.496</td></tr><tr><th>13</th><td>Smooth Criminal</td><td>75</td><td>209266</td><td>0.00434</td><td>0.647</td></tr><tr><th>14</th><td>Can't Stop</td><td>81</td><td>269000</td><td>0.0179</td><td>0.618</td></tr><tr><th>15</th><td>Chop Suey!</td><td>69</td><td>210240</td><td>0.000353</td><td>0.42</td></tr><tr><th>16</th><td>Take Me Out</td><td>77</td><td>237026</td><td>0.000423</td><td>0.278</td></tr><tr><th>17</th><td>I Miss You</td><td>71</td><td>227240</td><td>0.00136</td><td>0.659</td></tr><tr><th>18</th><td>Best of You</td><td>62</td><td>256600</td><td>0.00701</td><td>0.37</td></tr><tr><th>19</th><td>I Write Sins Not Tragedies</td><td>77</td><td>187613</td><td>0.0938</td><td>0.567</td></tr><tr><th>20</th><td>Kryptonite</td><td>79</td><td>233933</td><td>0.00664</td><td>0.545</td></tr><tr><th>21</th><td>The Kill (Bury Me)</td><td>69</td><td>231533</td><td>0.0014</td><td>0.309</td></tr><tr><th>22</th><td>Use Somebody</td><td>79</td><td>230760</td><td>0.00552</td><td>0.276</td></tr><tr><th>23</th><td>No One Knows</td><td>13</td><td>255066</td><td>0.0137</td><td>0.518</td></tr><tr><th>24</th><td>Jerk It Out</td><td>62</td><td>195666</td><td>0.0171</td><td>0.58</td></tr><tr><th>25</th><td>Uprising</td><td>77</td><td>304840</td><td>0.000202</td><td>0.602</td></tr><tr><th>26</th><td>Hey There Delilah</td><td>79</td><td>232533</td><td>0.872</td><td>0.657</td></tr><tr><th>27</th><td>Blurry</td><td>28</td><td>303920</td><td>0.0102</td><td>0.44</td></tr><tr><th>28</th><td>American Idiot</td><td>78</td><td>176346</td><td>2.64e-5</td><td>0.38</td></tr><tr><th>29</th><td>Welcome to the Black Parade</td><td>77</td><td>311106</td><td>0.000289</td><td>0.217</td></tr><tr><th>30</th><td>Gives You Hell</td><td>71</td><td>213106</td><td>0.0156</td><td>0.714</td></tr><tr><th>&vellip;</th><td>&vellip;</td><td>&vellip;</td><td>&vellip;</td><td>&vellip;</td><td>&vellip;</td></tr></tbody></table>"
      ],
      "text/latex": [
       "\\begin{tabular}{r|cccccc}\n",
       "\t& song\\_name & song\\_popularity & song\\_duration\\_ms & acousticness & danceability & \\\\\n",
       "\t\\hline\n",
       "\t& String & Int64 & Int64 & Float64 & Float64 & \\\\\n",
       "\t\\hline\n",
       "\t1 & Boulevard of Broken Dreams & 73 & 262333 & 0.00552 & 0.496 & $\\dots$ \\\\\n",
       "\t2 & In The End & 66 & 216933 & 0.0103 & 0.542 & $\\dots$ \\\\\n",
       "\t3 & Seven Nation Army & 76 & 231733 & 0.00817 & 0.737 & $\\dots$ \\\\\n",
       "\t4 & By The Way & 74 & 216933 & 0.0264 & 0.451 & $\\dots$ \\\\\n",
       "\t5 & How You Remind Me & 56 & 223826 & 0.000954 & 0.447 & $\\dots$ \\\\\n",
       "\t6 & Bring Me To Life & 80 & 235893 & 0.00895 & 0.316 & $\\dots$ \\\\\n",
       "\t7 & Last Resort & 81 & 199893 & 0.000504 & 0.581 & $\\dots$ \\\\\n",
       "\t8 & Are You Gonna Be My Girl & 76 & 213800 & 0.00148 & 0.613 & $\\dots$ \\\\\n",
       "\t9 & Mr. Brightside & 80 & 222586 & 0.00108 & 0.33 & $\\dots$ \\\\\n",
       "\t10 & Sex on Fire & 81 & 203346 & 0.00172 & 0.542 & $\\dots$ \\\\\n",
       "\t11 & The Middle & 78 & 168253 & 0.0424 & 0.629 & $\\dots$ \\\\\n",
       "\t12 & Numb & 63 & 185586 & 0.0046 & 0.496 & $\\dots$ \\\\\n",
       "\t13 & Smooth Criminal & 75 & 209266 & 0.00434 & 0.647 & $\\dots$ \\\\\n",
       "\t14 & Can't Stop & 81 & 269000 & 0.0179 & 0.618 & $\\dots$ \\\\\n",
       "\t15 & Chop Suey! & 69 & 210240 & 0.000353 & 0.42 & $\\dots$ \\\\\n",
       "\t16 & Take Me Out & 77 & 237026 & 0.000423 & 0.278 & $\\dots$ \\\\\n",
       "\t17 & I Miss You & 71 & 227240 & 0.00136 & 0.659 & $\\dots$ \\\\\n",
       "\t18 & Best of You & 62 & 256600 & 0.00701 & 0.37 & $\\dots$ \\\\\n",
       "\t19 & I Write Sins Not Tragedies & 77 & 187613 & 0.0938 & 0.567 & $\\dots$ \\\\\n",
       "\t20 & Kryptonite & 79 & 233933 & 0.00664 & 0.545 & $\\dots$ \\\\\n",
       "\t21 & The Kill (Bury Me) & 69 & 231533 & 0.0014 & 0.309 & $\\dots$ \\\\\n",
       "\t22 & Use Somebody & 79 & 230760 & 0.00552 & 0.276 & $\\dots$ \\\\\n",
       "\t23 & No One Knows & 13 & 255066 & 0.0137 & 0.518 & $\\dots$ \\\\\n",
       "\t24 & Jerk It Out & 62 & 195666 & 0.0171 & 0.58 & $\\dots$ \\\\\n",
       "\t25 & Uprising & 77 & 304840 & 0.000202 & 0.602 & $\\dots$ \\\\\n",
       "\t26 & Hey There Delilah & 79 & 232533 & 0.872 & 0.657 & $\\dots$ \\\\\n",
       "\t27 & Blurry & 28 & 303920 & 0.0102 & 0.44 & $\\dots$ \\\\\n",
       "\t28 & American Idiot & 78 & 176346 & 2.64e-5 & 0.38 & $\\dots$ \\\\\n",
       "\t29 & Welcome to the Black Parade & 77 & 311106 & 0.000289 & 0.217 & $\\dots$ \\\\\n",
       "\t30 & Gives You Hell & 71 & 213106 & 0.0156 & 0.714 & $\\dots$ \\\\\n",
       "\t$\\dots$ & $\\dots$ & $\\dots$ & $\\dots$ & $\\dots$ & $\\dots$ &  \\\\\n",
       "\\end{tabular}\n"
      ],
      "text/plain": [
       "18835×15 typename(DataFrame). Omitted printing of 12 columns\n",
       "│ Row   │ song_name                  │ song_popularity │ song_duration_ms │\n",
       "│       │ \u001b[90mString\u001b[39m                     │ \u001b[90mInt64\u001b[39m           │ \u001b[90mInt64\u001b[39m            │\n",
       "├───────┼────────────────────────────┼─────────────────┼──────────────────┤\n",
       "│ 1     │ Boulevard of Broken Dreams │ 73              │ 262333           │\n",
       "│ 2     │ In The End                 │ 66              │ 216933           │\n",
       "│ 3     │ Seven Nation Army          │ 76              │ 231733           │\n",
       "│ 4     │ By The Way                 │ 74              │ 216933           │\n",
       "│ 5     │ How You Remind Me          │ 56              │ 223826           │\n",
       "│ 6     │ Bring Me To Life           │ 80              │ 235893           │\n",
       "│ 7     │ Last Resort                │ 81              │ 199893           │\n",
       "│ 8     │ Are You Gonna Be My Girl   │ 76              │ 213800           │\n",
       "│ 9     │ Mr. Brightside             │ 80              │ 222586           │\n",
       "│ 10    │ Sex on Fire                │ 81              │ 203346           │\n",
       "⋮\n",
       "│ 18825 │ Fall Apart Today           │ 62              │ 203760           │\n",
       "│ 18826 │ Something Familiar         │ 60              │ 145466           │\n",
       "│ 18827 │ Call It Dreaming           │ 67              │ 231760           │\n",
       "│ 18828 │ Stay Awake                 │ 55              │ 114582           │\n",
       "│ 18829 │ Build Me Up From Bones     │ 64              │ 216173           │\n",
       "│ 18830 │ I Know                     │ 62              │ 195106           │\n",
       "│ 18831 │ Let It Breathe             │ 60              │ 159645           │\n",
       "│ 18832 │ Answers                    │ 60              │ 205666           │\n",
       "│ 18833 │ Sudden Love (Acoustic)     │ 23              │ 182211           │\n",
       "│ 18834 │ Gentle on My Mind          │ 55              │ 352280           │\n",
       "│ 18835 │ Up to Me                   │ 60              │ 193533           │"
      ]
     },
     "execution_count": 2,
     "metadata": {},
     "output_type": "execute_result"
    }
   ],
   "source": [
    "df = DataFrame(CSV.File(\"/Users/hilsts/Documents/linear-models-benchmark/data/song_data.csv\"))"
   ]
  },
  {
   "cell_type": "code",
   "execution_count": 5,
   "id": "711a3d3c",
   "metadata": {
    "ExecuteTime": {
     "end_time": "2022-07-17T04:08:15.114000-03:00",
     "start_time": "2022-07-17T07:08:14.876Z"
    },
    "scrolled": true
   },
   "outputs": [
    {
     "data": {
      "text/html": [
       "<table class=\"data-frame\"><thead><tr><th></th><th>song_popularity</th><th>song_duration_ms</th><th>acousticness</th><th>danceability</th><th>energy</th><th>instrumentalness</th></tr><tr><th></th><th>Int64</th><th>Int64</th><th>Float64</th><th>Float64</th><th>Float64</th><th>Float64</th></tr></thead><tbody><p>18,835 rows × 14 columns (omitted printing of 8 columns)</p><tr><th>1</th><td>73</td><td>262333</td><td>0.00552</td><td>0.496</td><td>0.682</td><td>2.94e-5</td></tr><tr><th>2</th><td>66</td><td>216933</td><td>0.0103</td><td>0.542</td><td>0.853</td><td>0.0</td></tr><tr><th>3</th><td>76</td><td>231733</td><td>0.00817</td><td>0.737</td><td>0.463</td><td>0.447</td></tr><tr><th>4</th><td>74</td><td>216933</td><td>0.0264</td><td>0.451</td><td>0.97</td><td>0.00355</td></tr><tr><th>5</th><td>56</td><td>223826</td><td>0.000954</td><td>0.447</td><td>0.766</td><td>0.0</td></tr><tr><th>6</th><td>80</td><td>235893</td><td>0.00895</td><td>0.316</td><td>0.945</td><td>1.85e-6</td></tr><tr><th>7</th><td>81</td><td>199893</td><td>0.000504</td><td>0.581</td><td>0.887</td><td>0.00111</td></tr><tr><th>8</th><td>76</td><td>213800</td><td>0.00148</td><td>0.613</td><td>0.953</td><td>0.000582</td></tr><tr><th>9</th><td>80</td><td>222586</td><td>0.00108</td><td>0.33</td><td>0.936</td><td>0.0</td></tr><tr><th>10</th><td>81</td><td>203346</td><td>0.00172</td><td>0.542</td><td>0.905</td><td>0.0104</td></tr><tr><th>11</th><td>78</td><td>168253</td><td>0.0424</td><td>0.629</td><td>0.897</td><td>0.0</td></tr><tr><th>12</th><td>63</td><td>185586</td><td>0.0046</td><td>0.496</td><td>0.863</td><td>0.0</td></tr><tr><th>13</th><td>75</td><td>209266</td><td>0.00434</td><td>0.647</td><td>0.964</td><td>0.0036</td></tr><tr><th>14</th><td>81</td><td>269000</td><td>0.0179</td><td>0.618</td><td>0.938</td><td>0.0</td></tr><tr><th>15</th><td>69</td><td>210240</td><td>0.000353</td><td>0.42</td><td>0.929</td><td>0.000747</td></tr><tr><th>16</th><td>77</td><td>237026</td><td>0.000423</td><td>0.278</td><td>0.676</td><td>0.000899</td></tr><tr><th>17</th><td>71</td><td>227240</td><td>0.00136</td><td>0.659</td><td>0.778</td><td>6.79e-6</td></tr><tr><th>18</th><td>62</td><td>256600</td><td>0.00701</td><td>0.37</td><td>0.944</td><td>2.9e-6</td></tr><tr><th>19</th><td>77</td><td>187613</td><td>0.0938</td><td>0.567</td><td>0.795</td><td>0.0</td></tr><tr><th>20</th><td>79</td><td>233933</td><td>0.00664</td><td>0.545</td><td>0.865</td><td>1.12e-5</td></tr><tr><th>21</th><td>69</td><td>231533</td><td>0.0014</td><td>0.309</td><td>0.912</td><td>0.000271</td></tr><tr><th>22</th><td>79</td><td>230760</td><td>0.00552</td><td>0.276</td><td>0.715</td><td>0.000417</td></tr><tr><th>23</th><td>13</td><td>255066</td><td>0.0137</td><td>0.518</td><td>0.538</td><td>0.000398</td></tr><tr><th>24</th><td>62</td><td>195666</td><td>0.0171</td><td>0.58</td><td>0.981</td><td>1.07e-5</td></tr><tr><th>25</th><td>77</td><td>304840</td><td>0.000202</td><td>0.602</td><td>0.905</td><td>0.064</td></tr><tr><th>26</th><td>79</td><td>232533</td><td>0.872</td><td>0.657</td><td>0.291</td><td>0.0</td></tr><tr><th>27</th><td>28</td><td>303920</td><td>0.0102</td><td>0.44</td><td>0.932</td><td>0.0</td></tr><tr><th>28</th><td>78</td><td>176346</td><td>2.64e-5</td><td>0.38</td><td>0.988</td><td>7.86e-5</td></tr><tr><th>29</th><td>77</td><td>311106</td><td>0.000289</td><td>0.217</td><td>0.905</td><td>0.00011</td></tr><tr><th>30</th><td>71</td><td>213106</td><td>0.0156</td><td>0.714</td><td>0.725</td><td>0.0</td></tr><tr><th>&vellip;</th><td>&vellip;</td><td>&vellip;</td><td>&vellip;</td><td>&vellip;</td><td>&vellip;</td><td>&vellip;</td></tr></tbody></table>"
      ],
      "text/latex": [
       "\\begin{tabular}{r|ccccccc}\n",
       "\t& song\\_popularity & song\\_duration\\_ms & acousticness & danceability & energy & instrumentalness & \\\\\n",
       "\t\\hline\n",
       "\t& Int64 & Int64 & Float64 & Float64 & Float64 & Float64 & \\\\\n",
       "\t\\hline\n",
       "\t1 & 73 & 262333 & 0.00552 & 0.496 & 0.682 & 2.94e-5 & $\\dots$ \\\\\n",
       "\t2 & 66 & 216933 & 0.0103 & 0.542 & 0.853 & 0.0 & $\\dots$ \\\\\n",
       "\t3 & 76 & 231733 & 0.00817 & 0.737 & 0.463 & 0.447 & $\\dots$ \\\\\n",
       "\t4 & 74 & 216933 & 0.0264 & 0.451 & 0.97 & 0.00355 & $\\dots$ \\\\\n",
       "\t5 & 56 & 223826 & 0.000954 & 0.447 & 0.766 & 0.0 & $\\dots$ \\\\\n",
       "\t6 & 80 & 235893 & 0.00895 & 0.316 & 0.945 & 1.85e-6 & $\\dots$ \\\\\n",
       "\t7 & 81 & 199893 & 0.000504 & 0.581 & 0.887 & 0.00111 & $\\dots$ \\\\\n",
       "\t8 & 76 & 213800 & 0.00148 & 0.613 & 0.953 & 0.000582 & $\\dots$ \\\\\n",
       "\t9 & 80 & 222586 & 0.00108 & 0.33 & 0.936 & 0.0 & $\\dots$ \\\\\n",
       "\t10 & 81 & 203346 & 0.00172 & 0.542 & 0.905 & 0.0104 & $\\dots$ \\\\\n",
       "\t11 & 78 & 168253 & 0.0424 & 0.629 & 0.897 & 0.0 & $\\dots$ \\\\\n",
       "\t12 & 63 & 185586 & 0.0046 & 0.496 & 0.863 & 0.0 & $\\dots$ \\\\\n",
       "\t13 & 75 & 209266 & 0.00434 & 0.647 & 0.964 & 0.0036 & $\\dots$ \\\\\n",
       "\t14 & 81 & 269000 & 0.0179 & 0.618 & 0.938 & 0.0 & $\\dots$ \\\\\n",
       "\t15 & 69 & 210240 & 0.000353 & 0.42 & 0.929 & 0.000747 & $\\dots$ \\\\\n",
       "\t16 & 77 & 237026 & 0.000423 & 0.278 & 0.676 & 0.000899 & $\\dots$ \\\\\n",
       "\t17 & 71 & 227240 & 0.00136 & 0.659 & 0.778 & 6.79e-6 & $\\dots$ \\\\\n",
       "\t18 & 62 & 256600 & 0.00701 & 0.37 & 0.944 & 2.9e-6 & $\\dots$ \\\\\n",
       "\t19 & 77 & 187613 & 0.0938 & 0.567 & 0.795 & 0.0 & $\\dots$ \\\\\n",
       "\t20 & 79 & 233933 & 0.00664 & 0.545 & 0.865 & 1.12e-5 & $\\dots$ \\\\\n",
       "\t21 & 69 & 231533 & 0.0014 & 0.309 & 0.912 & 0.000271 & $\\dots$ \\\\\n",
       "\t22 & 79 & 230760 & 0.00552 & 0.276 & 0.715 & 0.000417 & $\\dots$ \\\\\n",
       "\t23 & 13 & 255066 & 0.0137 & 0.518 & 0.538 & 0.000398 & $\\dots$ \\\\\n",
       "\t24 & 62 & 195666 & 0.0171 & 0.58 & 0.981 & 1.07e-5 & $\\dots$ \\\\\n",
       "\t25 & 77 & 304840 & 0.000202 & 0.602 & 0.905 & 0.064 & $\\dots$ \\\\\n",
       "\t26 & 79 & 232533 & 0.872 & 0.657 & 0.291 & 0.0 & $\\dots$ \\\\\n",
       "\t27 & 28 & 303920 & 0.0102 & 0.44 & 0.932 & 0.0 & $\\dots$ \\\\\n",
       "\t28 & 78 & 176346 & 2.64e-5 & 0.38 & 0.988 & 7.86e-5 & $\\dots$ \\\\\n",
       "\t29 & 77 & 311106 & 0.000289 & 0.217 & 0.905 & 0.00011 & $\\dots$ \\\\\n",
       "\t30 & 71 & 213106 & 0.0156 & 0.714 & 0.725 & 0.0 & $\\dots$ \\\\\n",
       "\t$\\dots$ & $\\dots$ & $\\dots$ & $\\dots$ & $\\dots$ & $\\dots$ & $\\dots$ &  \\\\\n",
       "\\end{tabular}\n"
      ],
      "text/plain": [
       "18835×14 typename(DataFrame). Omitted printing of 10 columns\n",
       "│ Row   │ song_popularity │ song_duration_ms │ acousticness │ danceability │\n",
       "│       │ \u001b[90mInt64\u001b[39m           │ \u001b[90mInt64\u001b[39m            │ \u001b[90mFloat64\u001b[39m      │ \u001b[90mFloat64\u001b[39m      │\n",
       "├───────┼─────────────────┼──────────────────┼──────────────┼──────────────┤\n",
       "│ 1     │ 73              │ 262333           │ 0.00552      │ 0.496        │\n",
       "│ 2     │ 66              │ 216933           │ 0.0103       │ 0.542        │\n",
       "│ 3     │ 76              │ 231733           │ 0.00817      │ 0.737        │\n",
       "│ 4     │ 74              │ 216933           │ 0.0264       │ 0.451        │\n",
       "│ 5     │ 56              │ 223826           │ 0.000954     │ 0.447        │\n",
       "│ 6     │ 80              │ 235893           │ 0.00895      │ 0.316        │\n",
       "│ 7     │ 81              │ 199893           │ 0.000504     │ 0.581        │\n",
       "│ 8     │ 76              │ 213800           │ 0.00148      │ 0.613        │\n",
       "│ 9     │ 80              │ 222586           │ 0.00108      │ 0.33         │\n",
       "│ 10    │ 81              │ 203346           │ 0.00172      │ 0.542        │\n",
       "⋮\n",
       "│ 18825 │ 62              │ 203760           │ 0.851        │ 0.416        │\n",
       "│ 18826 │ 60              │ 145466           │ 0.906        │ 0.491        │\n",
       "│ 18827 │ 67              │ 231760           │ 0.61         │ 0.519        │\n",
       "│ 18828 │ 55              │ 114582           │ 0.898        │ 0.37         │\n",
       "│ 18829 │ 64              │ 216173           │ 0.862        │ 0.515        │\n",
       "│ 18830 │ 62              │ 195106           │ 0.395        │ 0.644        │\n",
       "│ 18831 │ 60              │ 159645           │ 0.893        │ 0.5          │\n",
       "│ 18832 │ 60              │ 205666           │ 0.765        │ 0.495        │\n",
       "│ 18833 │ 23              │ 182211           │ 0.847        │ 0.719        │\n",
       "│ 18834 │ 55              │ 352280           │ 0.945        │ 0.488        │\n",
       "│ 18835 │ 60              │ 193533           │ 0.911        │ 0.64         │"
      ]
     },
     "execution_count": 5,
     "metadata": {},
     "output_type": "execute_result"
    }
   ],
   "source": [
    "df = select!(df, Not(:song_name))"
   ]
  },
  {
   "cell_type": "markdown",
   "id": "c5216ad9",
   "metadata": {},
   "source": [
    "## Linear Regression"
   ]
  },
  {
   "cell_type": "code",
   "execution_count": 6,
   "id": "e861807c",
   "metadata": {
    "ExecuteTime": {
     "end_time": "2022-07-17T04:08:22.764000-03:00",
     "start_time": "2022-07-17T07:08:22.746Z"
    }
   },
   "outputs": [
    {
     "data": {
      "text/plain": [
       "(14185×14 typename(DataFrame). Omitted printing of 10 columns\n",
       "│ Row   │ song_popularity │ song_duration_ms │ acousticness │ danceability │\n",
       "│       │ \u001b[90mInt64\u001b[39m           │ \u001b[90mInt64\u001b[39m            │ \u001b[90mFloat64\u001b[39m      │ \u001b[90mFloat64\u001b[39m      │\n",
       "├───────┼─────────────────┼──────────────────┼──────────────┼──────────────┤\n",
       "│ 1     │ 66              │ 216933           │ 0.0103       │ 0.542        │\n",
       "│ 2     │ 74              │ 216933           │ 0.0264       │ 0.451        │\n",
       "│ 3     │ 56              │ 223826           │ 0.000954     │ 0.447        │\n",
       "│ 4     │ 80              │ 235893           │ 0.00895      │ 0.316        │\n",
       "│ 5     │ 81              │ 199893           │ 0.000504     │ 0.581        │\n",
       "│ 6     │ 76              │ 213800           │ 0.00148      │ 0.613        │\n",
       "│ 7     │ 81              │ 203346           │ 0.00172      │ 0.542        │\n",
       "│ 8     │ 78              │ 168253           │ 0.0424       │ 0.629        │\n",
       "│ 9     │ 63              │ 185586           │ 0.0046       │ 0.496        │\n",
       "│ 10    │ 75              │ 209266           │ 0.00434      │ 0.647        │\n",
       "⋮\n",
       "│ 14175 │ 23              │ 250850           │ 0.959        │ 0.417        │\n",
       "│ 14176 │ 49              │ 224687           │ 0.926        │ 0.695        │\n",
       "│ 14177 │ 56              │ 225850           │ 0.91         │ 0.603        │\n",
       "│ 14178 │ 61              │ 234326           │ 0.964        │ 0.655        │\n",
       "│ 14179 │ 67              │ 231760           │ 0.61         │ 0.519        │\n",
       "│ 14180 │ 64              │ 216173           │ 0.862        │ 0.515        │\n",
       "│ 14181 │ 62              │ 195106           │ 0.395        │ 0.644        │\n",
       "│ 14182 │ 60              │ 205666           │ 0.765        │ 0.495        │\n",
       "│ 14183 │ 23              │ 182211           │ 0.847        │ 0.719        │\n",
       "│ 14184 │ 55              │ 352280           │ 0.945        │ 0.488        │\n",
       "│ 14185 │ 60              │ 193533           │ 0.911        │ 0.64         │, 4650×14 typename(DataFrame). Omitted printing of 10 columns\n",
       "│ Row  │ song_popularity │ song_duration_ms │ acousticness │ danceability │\n",
       "│      │ \u001b[90mInt64\u001b[39m           │ \u001b[90mInt64\u001b[39m            │ \u001b[90mFloat64\u001b[39m      │ \u001b[90mFloat64\u001b[39m      │\n",
       "├──────┼─────────────────┼──────────────────┼──────────────┼──────────────┤\n",
       "│ 1    │ 73              │ 262333           │ 0.00552      │ 0.496        │\n",
       "│ 2    │ 76              │ 231733           │ 0.00817      │ 0.737        │\n",
       "│ 3    │ 80              │ 222586           │ 0.00108      │ 0.33         │\n",
       "│ 4    │ 79              │ 233933           │ 0.00664      │ 0.545        │\n",
       "│ 5    │ 77              │ 304840           │ 0.000202     │ 0.602        │\n",
       "│ 6    │ 78              │ 176346           │ 2.64e-5      │ 0.38         │\n",
       "│ 7    │ 11              │ 269373           │ 0.000917     │ 0.433        │\n",
       "│ 8    │ 57              │ 194520           │ 0.000153     │ 0.391        │\n",
       "│ 9    │ 63              │ 176306           │ 5.1e-5       │ 0.219        │\n",
       "│ 10   │ 69              │ 299533           │ 0.000249     │ 0.269        │\n",
       "⋮\n",
       "│ 4640 │ 64              │ 216000           │ 0.807        │ 0.579        │\n",
       "│ 4641 │ 23              │ 192168           │ 0.467        │ 0.666        │\n",
       "│ 4642 │ 64              │ 211805           │ 0.941        │ 0.377        │\n",
       "│ 4643 │ 26              │ 265013           │ 0.735        │ 0.629        │\n",
       "│ 4644 │ 62              │ 213866           │ 0.644        │ 0.306        │\n",
       "│ 4645 │ 67              │ 250866           │ 0.862        │ 0.587        │\n",
       "│ 4646 │ 62              │ 175777           │ 0.0128       │ 0.214        │\n",
       "│ 4647 │ 62              │ 203760           │ 0.851        │ 0.416        │\n",
       "│ 4648 │ 60              │ 145466           │ 0.906        │ 0.491        │\n",
       "│ 4649 │ 55              │ 114582           │ 0.898        │ 0.37         │\n",
       "│ 4650 │ 60              │ 159645           │ 0.893        │ 0.5          │)"
      ]
     },
     "execution_count": 6,
     "metadata": {},
     "output_type": "execute_result"
    }
   ],
   "source": [
    "using Lathe.preprocess: TrainTestSplit\n",
    "train, test = TrainTestSplit(df,.75)"
   ]
  },
  {
   "cell_type": "code",
   "execution_count": 13,
   "id": "8a0c61b6",
   "metadata": {
    "ExecuteTime": {
     "end_time": "2022-07-17T12:08:17.863000-03:00",
     "start_time": "2022-07-17T15:08:17.274Z"
    }
   },
   "outputs": [
    {
     "data": {
      "text/plain": [
       "4650-element Vector{Union{Missing, Float64}}:\n",
       " 55.41466600194881\n",
       " 55.28767145574357\n",
       " 53.30550088420243\n",
       " 52.1549596695484\n",
       " 54.31439429104653\n",
       " 48.43216344392008\n",
       " 52.30381375653886\n",
       " 51.23521803686206\n",
       " 47.09652962239261\n",
       " 52.28219885064443\n",
       " 48.751269357310896\n",
       " 51.44957424377385\n",
       " 59.91712585443227\n",
       "  ⋮\n",
       " 55.27719834140903\n",
       " 52.60293770941264\n",
       " 48.320507282603806\n",
       " 50.25498010816773\n",
       " 51.36347002551752\n",
       " 56.197753017889845\n",
       " 53.70163916549002\n",
       " 53.38079348974171\n",
       " 48.811205563848745\n",
       " 50.745196015683014\n",
       " 54.399871132431066\n",
       " 51.82471034158896"
      ]
     },
     "execution_count": 13,
     "metadata": {},
     "output_type": "execute_result"
    }
   ],
   "source": [
    "linearRegressor = lm(Term(:song_popularity) ~ sum(Term.(Symbol.(names(df[:, Not(:song_popularity)])))), df)\n",
    "predict(linearRegressor, test)"
   ]
  },
  {
   "cell_type": "markdown",
   "id": "cb39e9eb",
   "metadata": {},
   "source": [
    "## Lasso"
   ]
  },
  {
   "cell_type": "code",
   "execution_count": 38,
   "id": "e4b65862",
   "metadata": {
    "ExecuteTime": {
     "end_time": "2022-07-17T17:31:34.062000-03:00",
     "start_time": "2022-07-17T20:31:33.856Z"
    }
   },
   "outputs": [
    {
     "data": {
      "text/plain": [
       "4650-element Vector{Union{Missing, Float64}}:\n",
       " 55.311705118488625\n",
       " 55.39339321081738\n",
       " 53.7078884490374\n",
       " 51.81155407832282\n",
       " 54.28213809987159\n",
       " 49.435186448693685\n",
       " 52.330442698888604\n",
       " 51.66780202548399\n",
       " 47.29156865928989\n",
       " 52.06002307710682\n",
       " 48.38100919510774\n",
       " 51.477445252884785\n",
       " 59.9125977984922\n",
       "  ⋮\n",
       " 54.86827337245871\n",
       " 52.06044554310103\n",
       " 48.46416368911684\n",
       " 50.40371210467135\n",
       " 51.11820692542112\n",
       " 56.0346514237472\n",
       " 53.260315886974055\n",
       " 52.89409919132049\n",
       " 48.50790467163573\n",
       " 50.776563592831586\n",
       " 54.53720363572094\n",
       " 51.56871290400152"
      ]
     },
     "execution_count": 38,
     "metadata": {},
     "output_type": "execute_result"
    }
   ],
   "source": [
    "lasso = fit(LassoModel, Term(:song_popularity) ~ sum(Term.(Symbol.(names(train[:, Not(:song_popularity)])))), train)\n",
    "predict(lasso, test)"
   ]
  },
  {
   "cell_type": "code",
   "execution_count": 52,
   "id": "e6ac3a20",
   "metadata": {
    "ExecuteTime": {
     "end_time": "2022-07-17T17:57:19.558000-03:00",
     "start_time": "2022-07-17T20:57:19.525Z"
    }
   },
   "outputs": [
    {
     "data": {
      "text/plain": [
       "4650×49 Matrix{Float64}:\n",
       " 52.9899  53.08    53.1621  53.2369  …  55.2706  55.2856  55.2991  55.3117\n",
       " 52.9899  52.5604  52.1691  51.8125     55.3139  55.3429  55.3692  55.3934\n",
       " 52.9899  53.0801  53.1622  53.237      53.7     53.7029  53.7056  53.7079\n",
       " 52.9899  53.08    53.1622  53.237      51.8329  51.8251  51.8181  51.8116\n",
       " 52.9899  53.0057  53.02    53.0331     54.2801  54.2808  54.2816  54.2821\n",
       " 52.9899  53.08    53.162   53.2368  …  49.4536  49.4469  49.4407  49.4352\n",
       " 52.9899  53.0801  53.1622  53.237      52.3571  52.3474  52.3386  52.3304\n",
       " 52.9899  53.0778  53.1579  53.2309     51.6427  51.6518  51.6601  51.6678\n",
       " 52.9899  52.9651  52.9425  52.9219     47.3931  47.3561  47.3224  47.2916\n",
       " 52.9899  53.0798  53.1616  53.2362     52.0837  52.075   52.0672  52.06\n",
       " 52.9899  52.8813  52.7823  52.6921  …  48.4395  48.4182  48.3988  48.381\n",
       " 52.9899  53.0801  53.1622  53.237      51.4863  51.4831  51.4802  51.4774\n",
       " 52.9899  53.0801  53.1622  53.237      59.8568  59.8772  59.8957  59.9126\n",
       "  ⋮                                  ⋱   ⋮                         \n",
       " 52.9899  53.0801  53.1622  53.237      54.832   54.8452  54.8572  54.8683\n",
       " 52.9899  53.0801  53.1622  53.237      52.0638  52.0626  52.0615  52.0604\n",
       " 52.9899  53.0488  53.1024  53.1513  …  48.5052  48.4902  48.4767  48.4642\n",
       " 52.9899  53.0799  53.1618  53.2365     50.4116  50.4087  50.4061  50.4037\n",
       " 52.9899  53.05    53.1047  53.1545     51.1546  51.1413  51.1293  51.1182\n",
       " 52.9899  53.0801  53.1622  53.237      55.9309  55.9687  56.003   56.0347\n",
       " 52.9899  53.0799  53.1618  53.2365     53.2495  53.2535  53.257   53.2603\n",
       " 52.9899  53.0126  53.0333  53.0522  …  52.7948  52.831   52.8639  52.8941\n",
       " 52.9899  53.0801  53.1622  53.237      48.5416  48.5293  48.518   48.5079\n",
       " 52.9899  53.08    53.1622  53.237      50.7855  50.7822  50.7793  50.7766\n",
       " 52.9899  53.0798  53.1616  53.2362     54.498   54.5123  54.5252  54.5372\n",
       " 52.9899  53.08    53.162   53.2368     51.5658  51.5669  51.5678  51.5687"
      ]
     },
     "execution_count": 52,
     "metadata": {},
     "output_type": "execute_result"
    }
   ],
   "source": [
    "X_train = convert(Matrix, train[:, Not(:song_popularity)])\n",
    "y_train = train.song_popularity\n",
    "X_test = convert(Matrix, test[:, Not(:song_popularity)])\n",
    "en = fit(LassoPath, X_train, y_train)\n",
    "predict(en, X_test)"
   ]
  },
  {
   "cell_type": "code",
   "execution_count": 44,
   "id": "53244730",
   "metadata": {
    "ExecuteTime": {
     "end_time": "2022-07-17T17:41:38.128000-03:00",
     "start_time": "2022-07-17T20:41:37.863Z"
    }
   },
   "outputs": [
    {
     "data": {
      "text/plain": [
       "14185×13 Matrix{Float64}:\n",
       " 216933.0  0.0103    0.542  0.853  …  0.0  0.0498  105.256  4.0  0.37\n",
       " 216933.0  0.0264    0.451  0.97      1.0  0.107   122.444  4.0  0.198\n",
       " 223826.0  0.000954  0.447  0.766     1.0  0.0313  172.011  4.0  0.574\n",
       " 235893.0  0.00895   0.316  0.945     0.0  0.124   189.931  4.0  0.32\n",
       " 199893.0  0.000504  0.581  0.887     0.0  0.0624   90.578  4.0  0.724\n",
       " 213800.0  0.00148   0.613  0.953  …  1.0  0.0855  105.046  4.0  0.537\n",
       " 203346.0  0.00172   0.542  0.905     1.0  0.054   153.398  4.0  0.374\n",
       " 168253.0  0.0424    0.629  0.897     1.0  0.0483  161.944  4.0  0.93\n",
       " 185586.0  0.0046    0.496  0.863     1.0  0.0381  110.018  4.0  0.243\n",
       " 209266.0  0.00434   0.647  0.964     0.0  0.06    126.942  4.0  0.875\n",
       " 269000.0  0.0179    0.618  0.938  …  1.0  0.0456   91.455  4.0  0.875\n",
       " 210240.0  0.000353  0.42   0.929     0.0  0.121   127.204  4.0  0.3\n",
       " 237026.0  0.000423  0.278  0.676     1.0  0.0371  104.545  4.0  0.494\n",
       "      ⋮                            ⋱                 ⋮           \n",
       " 179067.0  0.57      0.58   0.469     1.0  0.0332  152.867  4.0  0.56\n",
       " 250850.0  0.959     0.417  0.102     1.0  0.0368  130.994  4.0  0.0863\n",
       " 224687.0  0.926     0.695  0.269  …  1.0  0.0273   88.045  4.0  0.21\n",
       " 225850.0  0.91      0.603  0.194     1.0  0.0282   99.927  4.0  0.302\n",
       " 234326.0  0.964     0.655  0.396     1.0  0.0349   99.956  4.0  0.39\n",
       " 231760.0  0.61      0.519  0.515     1.0  0.031    80.329  4.0  0.714\n",
       " 216173.0  0.862     0.515  0.286     1.0  0.0378  115.076  4.0  0.284\n",
       " 195106.0  0.395     0.644  0.523  …  1.0  0.0378   95.966  4.0  0.445\n",
       " 205666.0  0.765     0.495  0.161     0.0  0.0301   94.286  4.0  0.265\n",
       " 182211.0  0.847     0.719  0.325     1.0  0.0355  130.534  4.0  0.286\n",
       " 352280.0  0.945     0.488  0.326     1.0  0.0328  106.063  4.0  0.323\n",
       " 193533.0  0.911     0.64   0.381     1.0  0.0302   91.49   4.0  0.581"
      ]
     },
     "execution_count": 44,
     "metadata": {},
     "output_type": "execute_result"
    }
   ],
   "source": [
    "X_train = convert(Matrix, train[:, Not(:song_popularity)])"
   ]
  },
  {
   "cell_type": "code",
   "execution_count": null,
   "id": "7dfeebb6",
   "metadata": {},
   "outputs": [],
   "source": []
  },
  {
   "cell_type": "code",
   "execution_count": null,
   "id": "c3338170",
   "metadata": {},
   "outputs": [],
   "source": []
  },
  {
   "cell_type": "code",
   "execution_count": null,
   "id": "167a23cc",
   "metadata": {},
   "outputs": [],
   "source": []
  },
  {
   "cell_type": "code",
   "execution_count": null,
   "id": "c015ff49",
   "metadata": {},
   "outputs": [],
   "source": []
  }
 ],
 "metadata": {
  "kernelspec": {
   "display_name": "Julia 1.7.2",
   "language": "julia",
   "name": "julia-1.7"
  },
  "language_info": {
   "file_extension": ".jl",
   "mimetype": "application/julia",
   "name": "julia",
   "version": "1.7.2"
  },
  "toc": {
   "base_numbering": 1,
   "nav_menu": {},
   "number_sections": true,
   "sideBar": true,
   "skip_h1_title": false,
   "title_cell": "Table of Contents",
   "title_sidebar": "Contents",
   "toc_cell": false,
   "toc_position": {
    "height": "795px",
    "left": "111px",
    "top": "111.141px",
    "width": "191.391px"
   },
   "toc_section_display": true,
   "toc_window_display": true
  },
  "varInspector": {
   "cols": {
    "lenName": 16,
    "lenType": 16,
    "lenVar": 40
   },
   "kernels_config": {
    "python": {
     "delete_cmd_postfix": "",
     "delete_cmd_prefix": "del ",
     "library": "var_list.py",
     "varRefreshCmd": "print(var_dic_list())"
    },
    "r": {
     "delete_cmd_postfix": ") ",
     "delete_cmd_prefix": "rm(",
     "library": "var_list.r",
     "varRefreshCmd": "cat(var_dic_list()) "
    }
   },
   "types_to_exclude": [
    "module",
    "function",
    "builtin_function_or_method",
    "instance",
    "_Feature"
   ],
   "window_display": false
  }
 },
 "nbformat": 4,
 "nbformat_minor": 5
}
